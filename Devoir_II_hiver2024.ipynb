{
  "cells": [
    {
      "cell_type": "markdown",
      "source": [
        "**Cours :** INF 6243 Techniques d’apprentissage\n",
        "\n",
        "**TP2 – Hiver 2024 :** Classification\n",
        "\n",
        "**Date limite pour remettre votre travail :** 22 mars 2024`\n",
        "\n",
        "**Modalités de travail:**\n",
        "\n",
        "1.  Les TPs se feront individuellement sur Python.\n",
        "2.  La remise des TP doit se faire sur Moodle.\n",
        "3.  Un retard de remise de TP de $n$ journées va causer la perte de $20 n$ points.  \n",
        "\n",
        "\n",
        "**Description des données:**\n",
        "\n",
        "La description originale des données est sur le site : https://archive.ics.uci.edu/dataset/350/default+of+credit+card+clients\n",
        "\n",
        "L’ensemble contient 3000 instances de données de clients et vise à étudier la prédiction du défaut de paiement. Chaque client est décrit sur 23 attributs numétique.  \n",
        "\n",
        "**Implantation demandée**\n",
        "\n",
        "On vous demande de tester la classification supervisée avec les algorithmes suivants :\n",
        "\n",
        "*   KPPV (à 7 voisins)\n",
        "*   Arbre de décision (profondeur maximale 10)\n",
        "*   Classificateur de Bayes\n",
        "*   SVM (version linéaire)\n",
        "*   Réseau de neurones à deux couches cachées\n",
        "* \tForet aléatoire (T=100)\n",
        "\n",
        "\n",
        "**Instructions:**\n",
        "\n",
        "\n",
        "*   Utiliser 80 % des données pour l’entrainement et 20% pour la validation).\n",
        "\n",
        "* Remettre votre devoir dans ce fichier Jupyter, avec une cellule pour chaque algorithme.\n",
        "\n",
        "*   Afficher les métriques suivantes pour la validation de la classification : exactitute, précision, rappel, matrice de confusion.\n",
        "Utiliser les fonctions : **accuracy_score, recall_score, precision_score, confusion_matrix** de  sklearn.metrics\n",
        "\n",
        "*   Il est préférable d’équilibrer les classes Y=0 et Y=1 pour un meilleur entrainement.  Utiliser la fonction **imblearn.over_sampling.RandomOverSampler**\n",
        "\n",
        "* Il est préférable de centrer et standardiser les données.\n",
        "Utiliser la fonction **sklearn.preprocessing.StandardScaler**\n",
        "\n",
        "\n"
      ],
      "metadata": {
        "id": "KMkDFk-K7JbJ"
      }
    },
    {
      "cell_type": "code",
      "source": [
        "\n",
        "import numpy as np\n",
        "import matplotlib.pyplot as plt\n",
        "import pandas as pd\n",
        "\n",
        "from sklearn.neighbors import KNeighborsClassifier\n",
        "from sklearn.tree import DecisionTreeClassifier\n",
        "from sklearn.ensemble import RandomForestClassifier\n",
        "from sklearn.naive_bayes import GaussianNB\n",
        "from sklearn.svm import SVC\n",
        "from sklearn.neural_network import MLPClassifier\n",
        "from sklearn.model_selection import train_test_split\n",
        "from sklearn.metrics import accuracy_score, recall_score, precision_score, confusion_matrix\n",
        "from imblearn.over_sampling import RandomOverSampler as ROS # training data oversampling\n",
        "from sklearn.preprocessing import StandardScaler"
      ],
      "metadata": {
        "id": "GTxiqjcNmbvQ"
      },
      "execution_count": 2,
      "outputs": []
    },
    {
      "cell_type": "code",
      "source": [
        "import pandas as pd\n",
        "\n",
        "path = '.../default_of_credit_card.xls'\n",
        "data = pd.read_excel(path)\n",
        "X, y = data.iloc[:,1:24].to_numpy(), data.iloc[:,24].to_numpy()"
      ],
      "metadata": {
        "id": "PJjuX2u41jDj"
      },
      "execution_count": null,
      "outputs": []
    }
  ],
  "metadata": {
    "colab": {
      "provenance": []
    },
    "kernelspec": {
      "display_name": "Python 3",
      "name": "python3"
    },
    "language_info": {
      "name": "python"
    }
  },
  "nbformat": 4,
  "nbformat_minor": 0
}